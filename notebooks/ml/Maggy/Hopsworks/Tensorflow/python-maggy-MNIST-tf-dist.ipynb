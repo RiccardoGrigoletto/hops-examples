{
 "cells": [
  {
   "cell_type": "markdown",
   "metadata": {
    "pycharm": {
     "name": "#%% md\n"
    }
   },
   "source": [
    "---\n",
    "title: \"Maggy Distributed Training on MNIST Dataset using Python Kernel\"\n",
    "date: 2022-02-16\n",
    "type: technical_note\n",
    "draft: false\n",
    "---"
   ]
  },
  {
   "cell_type": "markdown",
   "metadata": {},
   "source": [
    "Maggy enables you to train with Tensorflow distributed optimizers.\n",
    "Using Maggy, you have to make minimal changes in train your model in a distributed fashion. \n",
    "\n",
    "Make sure you have the latest Maggy installation and that you are running this notebook with a Python kernel. "
   ]
  },
  {
   "cell_type": "code",
   "execution_count": 4,
   "metadata": {
    "collapsed": false,
    "jupyter": {
     "outputs_hidden": false
    },
    "pycharm": {
     "name": "#%%\n"
    }
   },
   "outputs": [],
   "source": [
    "from maggy.experiment import experiment\n",
    "from maggy.config.tf_distributed import TfDistributedConfig\n",
    "\n",
    "import tensorflow as tf\n",
    "from tensorflow import keras\n",
    "import numpy as np"
   ]
  },
  {
   "cell_type": "markdown",
   "metadata": {},
   "source": [
    "### 1. Model definition\n",
    "\n",
    "Let's define the model we want to train. The layers of the model have to be defined in the \\_\\_init__ function.\n",
    "\n",
    "Do not instantiate the class, otherwise you won't be able to use Maggy."
   ]
  },
  {
   "cell_type": "code",
   "execution_count": 5,
   "metadata": {},
   "outputs": [],
   "source": [
    "class NeuralNetwork(tf.keras.Model):\n",
    "\n",
    "    def __init__(self, nlayers):\n",
    "        super().__init__()\n",
    "        self.conv1 = keras.layers.Conv2D(28, 2, activation='relu')\n",
    "        self.flatten = keras.layers.Flatten()\n",
    "        self.d1 = keras.layers.Dense(32, activation='relu')\n",
    "        self.d2 = keras.layers.Dense(10, activation='softmax')\n",
    "        \n",
    "    def call(self, x):\n",
    "        x = self.conv1(x)\n",
    "        x = self.flatten(x)\n",
    "        x = self.d1(x)\n",
    "        return self.d2(x)\n",
    "\n",
    "model = NeuralNetwork"
   ]
  },
  {
   "cell_type": "markdown",
   "metadata": {},
   "source": [
    "### 2. Dataset creation\n",
    "\n",
    "You can create the dataset here and pass it to the TfDistributedConfig, or creating it in the training function.\n",
    "\n",
    "In this example, we are downloading the dataset from tensorflow."
   ]
  },
  {
   "cell_type": "code",
   "execution_count": 6,
   "metadata": {},
   "outputs": [
    {
     "name": "stdout",
     "output_type": "stream",
     "text": [
      "Downloading data from https://storage.googleapis.com/tensorflow/tf-keras-datasets/mnist.npz\n",
      "11493376/11490434 [==============================] - 0s 0us/step\n"
     ]
    }
   ],
   "source": [
    "mnist = tf.keras.datasets.mnist\n",
    "\n",
    "(x_train, y_train),(x_test, y_test) = mnist.load_data()\n",
    "\n",
    "x_train, x_test = x_train / 255.0, x_test / 255.0\n",
    "x_train = np.reshape(x_train, (60000, 28, 28, 1))\n",
    "x_test = np.reshape(x_test, (10000, 28, 28, 1))"
   ]
  },
  {
   "cell_type": "markdown",
   "metadata": {},
   "source": [
    "### 3. Defining the training function\n",
    "\n",
    "The programming model is that you wrap the code containing the model training inside a wrapper function. Inside that wrapper function provide all imports and parts that make up your experiment.\n",
    "\n",
    "The function should return the metric that you want to optimize for. This should coincide with the metric being reported in the Keras callback (see next point).\n",
    "You can return the metric list, in this case only the loss element will be printed."
   ]
  },
  {
   "cell_type": "code",
   "execution_count": 11,
   "metadata": {
    "pycharm": {
     "name": "#%%\n"
    }
   },
   "outputs": [],
   "source": [
    "def training_function(model, dataset, hparams):\n",
    "    \n",
    "    # Define training parameters\n",
    "    num_epochs = 10\n",
    "    batch_size = 256\n",
    "    learning_rate = 0.1\n",
    "\n",
    "    train_set = dataset[0]\n",
    "    test_set = dataset[1]\n",
    "    \n",
    "    criterion = keras.losses.SparseCategoricalCrossentropy()\n",
    "    optimizer = keras.optimizers.SGD(learning_rate=learning_rate,momentum=0.9,decay=1e-5)\n",
    "    \n",
    "    model = model(nlayers = hparams['nlayers'])\n",
    "    \n",
    "    model.compile(optimizer=optimizer, loss=criterion, metrics=[\"accuracy\"])\n",
    "    \n",
    "    model.fit(train_set[0],\n",
    "              train_set[1],\n",
    "              batch_size=batch_size,\n",
    "              epochs=num_epochs,\n",
    "              )\n",
    "\n",
    "    print(\"Testing\")\n",
    "    \n",
    "    loss = model.evaluate(\n",
    "        test_set[0],\n",
    "        test_set[1],\n",
    "        batch_size=32)\n",
    "    \n",
    "    return loss"
   ]
  },
  {
   "cell_type": "markdown",
   "metadata": {},
   "source": [
    "### 4. Configuring the experiment\n",
    "\n",
    "In order to use maggy distributed training, we have to configure the training model, we can pass it to TfDistributedConfig.\n",
    "the model class has to be an implementation of __tf.keras.Model__.\n",
    "We can also define __train_set__, __test_set__ and eventually the __model_parameters__. __model_parameters__ is a dictionary\n",
    "containing the parameters to be used in the \\_\\_init__ function of your model."
   ]
  },
  {
   "cell_type": "code",
   "execution_count": 12,
   "metadata": {},
   "outputs": [],
   "source": [
    "#define the constructor parameters of your model\n",
    "model_parameters = {\n",
    "    'nlayers': 2\n",
    "}\n",
    "\n",
    "#pass the model parameters in the last \n",
    "config = TfDistributedConfig(name=\"tf_test\", \n",
    "                             model=model, \n",
    "                             dataset=[(x_train, y_train),(x_test, y_test)],\n",
    "                             hparams=model_parameters\n",
    "                            )"
   ]
  },
  {
   "cell_type": "markdown",
   "metadata": {},
   "source": [
    "#### 5. Run distributed training\n",
    "\n",
    "Finally, we are ready to launch the maggy experiment. You just need to pass 2 parameters: the training function and the configuration variable we defined in the previous steps."
   ]
  },
  {
   "cell_type": "code",
   "execution_count": 13,
   "metadata": {
    "pycharm": {
     "name": "#%%\n"
    }
   },
   "outputs": [
    {
     "name": "stdout",
     "output_type": "stream",
     "text": [
      "2022-05-04 09:31:44,189 INFO: Using MirroredStrategy with devices ('/device:CPU:0',)\n",
      "2022-05-04 09:31:44,191 INFO: Single-worker MultiWorkerMirroredStrategy with local_devices = ('/device:CPU:0',), communication = CommunicationImplementation.AUTO\n",
      "2022-05-04T09:31:44.192980 (0/0): index of slice 0 \n",
      "\n",
      "2022-05-04T09:31:44.193392 (0/0): Starting distributed training. \n",
      "\n",
      "Epoch 1/10\n",
      "235/235 [==============================] - 15s 49ms/step - loss: 0.6362 - accuracy: 0.8082\n",
      "Epoch 2/10\n",
      "235/235 [==============================] - 10s 44ms/step - loss: 0.1048 - accuracy: 0.9687\n",
      "Epoch 3/10\n",
      "235/235 [==============================] - 10s 44ms/step - loss: 0.0602 - accuracy: 0.9813\n",
      "Epoch 4/10\n",
      "235/235 [==============================] - 10s 42ms/step - loss: 0.0378 - accuracy: 0.9881\n",
      "Epoch 5/10\n",
      "235/235 [==============================] - 10s 42ms/step - loss: 0.0303 - accuracy: 0.9901\n",
      "Epoch 6/10\n",
      "235/235 [==============================] - 11s 45ms/step - loss: 0.0192 - accuracy: 0.9942\n",
      "Epoch 7/10\n",
      "235/235 [==============================] - 10s 43ms/step - loss: 0.0155 - accuracy: 0.9952\n",
      "Epoch 8/10\n",
      "235/235 [==============================] - 10s 41ms/step - loss: 0.0079 - accuracy: 0.9979\n",
      "Epoch 9/10\n",
      "235/235 [==============================] - 9s 40ms/step - loss: 0.0068 - accuracy: 0.9981\n",
      "Epoch 10/10\n",
      "235/235 [==============================] - 10s 43ms/step - loss: 0.0034 - accuracy: 0.9993\n",
      "Testing\n",
      "313/313 [==============================] - 3s 6ms/step - loss: 0.0875 - accuracy: 0.9796\n",
      "2022-05-04T09:33:34.799933 (0/0): Finished distributed training. \n",
      "\n",
      "Final average test loss: 0.088\n",
      "Finished experiment. Total run time: 0 hours, 1 minutes, 52 seconds\n"
     ]
    }
   ],
   "source": [
    "result = experiment.lagom(training_function, config)"
   ]
  },
  {
   "cell_type": "code",
   "execution_count": 14,
   "metadata": {},
   "outputs": [
    {
     "name": "stdout",
     "output_type": "stream",
     "text": [
      "loss: {'test result': 0.08752734214067459}\n"
     ]
    }
   ],
   "source": [
    "print('loss: {}'.format(result))"
   ]
  },
  {
   "cell_type": "code",
   "execution_count": null,
   "metadata": {},
   "outputs": [],
   "source": []
  }
 ],
 "metadata": {
  "kernelspec": {
   "display_name": "Python",
   "language": "python",
   "name": "python3"
  },
  "language_info": {
   "codemirror_mode": {
    "name": "ipython",
    "version": 3
   },
   "file_extension": ".py",
   "mimetype": "text/x-python",
   "name": "python",
   "nbconvert_exporter": "python",
   "pygments_lexer": "ipython3",
   "version": "3.8.11"
  }
 },
 "nbformat": 4,
 "nbformat_minor": 4
}